{
 "cells": [
  {
   "cell_type": "markdown",
   "metadata": {},
   "source": [
    "# 統計"
   ]
  },
  {
   "cell_type": "code",
   "execution_count": 15,
   "metadata": {},
   "outputs": [
    {
     "name": "stdout",
     "output_type": "stream",
     "text": [
      "平均値:22.0567\n",
      "標準偏差:3.4908\n"
     ]
    }
   ],
   "source": [
    "%matplotlib inline\n",
    "import numpy as np\n",
    "\n",
    "# 入手元：気象庁ホームページ\n",
    "# （https://www.data.jma.go.jp/gmd/risk/obsdl/index.php）\n",
    "# 2018年4月の東京の最高気温（日別）\n",
    "x = np.array([21.9, 24.5, 23.4, 26.2, 15.3, 22.4, 21.8, 16.8,\n",
    "              19.9, 19.1, 21.9, 25.9, 20.9, 18.8, 22.1, 20.0,\n",
    "              15.0, 16.0, 22.2, 26.4, 26.0, 28.3, 18.7, 21.3,\n",
    "              22.5, 25.0, 22.0, 26.1, 25.6, 25.7])\n",
    "m = x.sum() / len(x)\n",
    "s = np.sqrt(((x - m)**2).sum() / len(x))\n",
    "print(\"平均値:{:.4f}\".format(m))\n",
    "print(\"標準偏差:{:.4f}\".format(s))"
   ]
  },
  {
   "cell_type": "code",
   "execution_count": 16,
   "metadata": {},
   "outputs": [
    {
     "name": "stdout",
     "output_type": "stream",
     "text": [
      "平均値:22.0567\n",
      "標準偏差:3.4908\n"
     ]
    }
   ],
   "source": [
    "# 入手元：気象庁ホームページ\n",
    "# （https://www.data.jma.go.jp/gmd/risk/obsdl/index.php）\n",
    "# 2018年4月の東京の最高気温（日別）\n",
    "x = np.array([21.9, 24.5, 23.4, 26.2, 15.3, 22.4, 21.8, 16.8,\n",
    "              19.9, 19.1, 21.9, 25.9, 20.9, 18.8, 22.1, 20.0,\n",
    "              15.0, 16.0, 22.2, 26.4, 26.0, 28.3, 18.7, 21.3,\n",
    "              22.5, 25.0, 22.0, 26.1, 25.6, 25.7])\n",
    "m = x.mean()\n",
    "s = x.std()\n",
    "print(\"平均値:{:.4f}\".format(m))\n",
    "print(\"標準偏差:{:.4f}\".format(s))"
   ]
  },
  {
   "cell_type": "code",
   "execution_count": 17,
   "metadata": {},
   "outputs": [
    {
     "name": "stdout",
     "output_type": "stream",
     "text": [
      "東京の最高気温の標準偏差:3.4908\n",
      "札幌の最高気温の標準偏差:5.4254\n",
      "共分散:5.4872\n",
      "相関係数:0.2897\n"
     ]
    }
   ],
   "source": [
    "# 入手元：気象庁ホームページ（https://www.data.jma.go.jp/gmd/risk/obsdl/index.php）\n",
    "# 2018年4月の東京の最高気温（日別）\n",
    "x = np.array([21.9, 24.5, 23.4, 26.2, 15.3, 22.4, 21.8, 16.8,\n",
    "              19.9, 19.1, 21.9, 25.9, 20.9, 18.8, 22.1, 20.0,\n",
    "              15.0, 16.0, 22.2, 26.4, 26.0, 28.3, 18.7, 21.3,\n",
    "              22.5, 25.0, 22.0, 26.1, 25.6, 25.7])\n",
    "# 2018年4月の札幌の最高気温（日別）\n",
    "y = np.array([8.3, 13.0, 8.4, 7.9, 7.0, 3.7, 6.1, 8.5, 8.6,\n",
    "              11.9, 12.1, 14.4, 7.0, 10.5, 6.6, 10.6, 16.6,\n",
    "              19.1, 20.1, 19.8, 24.5, 12.6, 16.4, 13.0, 13.3,\n",
    "              14.1, 14.4, 17.0, 21.3, 24.5])\n",
    "\n",
    "mx = x.sum() / len(x)\n",
    "my = y.sum() / len(y)\n",
    "sx = np.sqrt(((x - mx)**2).sum() / len(x))\n",
    "sy = np.sqrt(((y - my)**2).sum() / len(y))\n",
    "sxy = ((x - mx)*(y - my)).sum() / len(x)\n",
    "print(\"東京の最高気温の標準偏差:{:.4f}\".format(sx))\n",
    "print(\"札幌の最高気温の標準偏差:{:.4f}\".format(sy))\n",
    "print(\"共分散:{:.4f}\".format(sxy))\n",
    "print(\"相関係数:{:.4f}\".format(sxy / (sx * sy)))\n"
   ]
  },
  {
   "cell_type": "code",
   "execution_count": 18,
   "metadata": {},
   "outputs": [],
   "source": [
    "## 各系列データと共分散を同時に考える時に共分散行列を考えるらしい"
   ]
  },
  {
   "cell_type": "code",
   "execution_count": 19,
   "metadata": {},
   "outputs": [
    {
     "data": {
      "image/png": "[encoded data removed]",
      "text/plain": [
       "<Figure size 432x288 with 1 Axes>"
      ]
     },
     "metadata": {
      "needs_background": "light"
     },
     "output_type": "display_data"
    }
   ],
   "source": [
    "import numpy as np\n",
    "import matplotlib.pyplot as plt\n",
    "from scipy.stats import norm\n",
    "\n",
    "x = np.linspace(-5, 5)\n",
    "y = norm.pdf(x)\n",
    "\n",
    "plt.plot(x, y, color=\"g\")\n",
    "plt.show()"
   ]
  },
  {
   "cell_type": "code",
   "execution_count": 21,
   "metadata": {},
   "outputs": [
    {
     "data": {
      "text/plain": [
       "0.6826894921370859"
      ]
     },
     "execution_count": 21,
     "metadata": {},
     "output_type": "execute_result"
    }
   ],
   "source": [
    "norm.cdf(1) - norm.cdf(-1)"
   ]
  },
  {
   "cell_type": "code",
   "execution_count": 22,
   "metadata": {},
   "outputs": [
    {
     "data": {
      "image/png": "[encoded data removed]",
      "text/plain": [
       "<Figure size 432x288 with 2 Axes>"
      ]
     },
     "metadata": {
      "needs_background": "light"
     },
     "output_type": "display_data"
    }
   ],
   "source": [
    "import numpy as np\n",
    "import matplotlib.pyplot as plt\n",
    "\n",
    "# n個のコインをm回投げて結果を返す\n",
    "def cointoss(n, m):\n",
    "    l = []\n",
    "    for _ in range(m):\n",
    "        r = np.random.randint(2, size=n)\n",
    "        l.append(r.sum())\n",
    "    return l\n",
    "\n",
    "np.random.seed(0)\n",
    "fig, axes = plt.subplots(1,2)\n",
    "\n",
    "l = cointoss(100, 1000000)\n",
    "axes[0].hist(l, range=(30, 70), bins=50, color=\"k\")\n",
    "l = cointoss(10000, 1000000)\n",
    "axes[1].hist(l, range=(4800,5200), bins=50, color=\"k\")\n",
    "plt.show()"
   ]
  },
  {
   "cell_type": "code",
   "execution_count": null,
   "metadata": {},
   "outputs": [],
   "source": []
  }
 ],
 "metadata": {
  "kernelspec": {
   "display_name": "Python 3",
   "language": "python",
   "name": "python3"
  },
  "language_info": {
   "codemirror_mode": {
    "name": "ipython",
    "version": 3
   },
   "file_extension": ".py",
   "mimetype": "text/x-python",
   "name": "python",
   "nbconvert_exporter": "python",
   "pygments_lexer": "ipython3",
   "version": "3.7.3"
  }
 },
 "nbformat": 4,
 "nbformat_minor": 4
}
