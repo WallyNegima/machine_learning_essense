{
 "cells": [
  {
   "cell_type": "code",
   "execution_count": 7,
   "metadata": {},
   "outputs": [
    {
     "data": {
      "text/plain": [
       "array([[1, 2],\n",
       "       [2, 3],\n",
       "       [3, 4],\n",
       "       [4, 5],\n",
       "       [5, 6],\n",
       "       [6, 7],\n",
       "       [7, 9]])"
      ]
     },
     "execution_count": 7,
     "metadata": {},
     "output_type": "execute_result"
    }
   ],
   "source": [
    "%matplotlib inline\n",
    "\n",
    "import numpy as np\n",
    "import matplotlib.pyplot as plt\n",
    "\n",
    "\n",
    "X = np.array([[1,2], [2,3], [3,4], [4,5], [5,6], [6,7], [7,9]])\n",
    "X"
   ]
  },
  {
   "cell_type": "code",
   "execution_count": 8,
   "metadata": {},
   "outputs": [
    {
     "data": {
      "text/plain": [
       "array([[1, 1],\n",
       "       [2, 2],\n",
       "       [3, 3]])"
      ]
     },
     "execution_count": 8,
     "metadata": {},
     "output_type": "execute_result"
    }
   ],
   "source": [
    "cluster_centers = np.array([[1,1],[2,2],[3,3]])\n",
    "cluster_centers"
   ]
  },
  {
   "cell_type": "code",
   "execution_count": 15,
   "metadata": {},
   "outputs": [
    {
     "name": "stdout",
     "output_type": "stream",
     "text": [
      "(7, 2, 1)\n"
     ]
    },
    {
     "data": {
      "text/plain": [
       "array([[[1],\n",
       "        [2]],\n",
       "\n",
       "       [[2],\n",
       "        [3]],\n",
       "\n",
       "       [[3],\n",
       "        [4]],\n",
       "\n",
       "       [[4],\n",
       "        [5]],\n",
       "\n",
       "       [[5],\n",
       "        [6]],\n",
       "\n",
       "       [[6],\n",
       "        [7]],\n",
       "\n",
       "       [[7],\n",
       "        [9]]])"
      ]
     },
     "execution_count": 15,
     "metadata": {},
     "output_type": "execute_result"
    }
   ],
   "source": [
    "p = X[:, :, np.newaxis]\n",
    "print(p.shape)\n",
    "p"
   ]
  },
  {
   "cell_type": "code",
   "execution_count": 14,
   "metadata": {},
   "outputs": [
    {
     "name": "stdout",
     "output_type": "stream",
     "text": [
      "(1, 2, 3)\n"
     ]
    },
    {
     "data": {
      "text/plain": [
       "array([[[1, 2, 3],\n",
       "        [1, 2, 3]]])"
      ]
     },
     "execution_count": 14,
     "metadata": {},
     "output_type": "execute_result"
    }
   ],
   "source": [
    "q = cluster_centers.T[np.newaxis, :, :]\n",
    "print(q.shape)\n",
    "q"
   ]
  },
  {
   "cell_type": "code",
   "execution_count": 18,
   "metadata": {},
   "outputs": [
    {
     "data": {
      "text/plain": [
       "array([[[ 0,  1,  4],\n",
       "        [ 1,  0,  1]],\n",
       "\n",
       "       [[ 1,  0,  1],\n",
       "        [ 4,  1,  0]],\n",
       "\n",
       "       [[ 4,  1,  0],\n",
       "        [ 9,  4,  1]],\n",
       "\n",
       "       [[ 9,  4,  1],\n",
       "        [16,  9,  4]],\n",
       "\n",
       "       [[16,  9,  4],\n",
       "        [25, 16,  9]],\n",
       "\n",
       "       [[25, 16,  9],\n",
       "        [36, 25, 16]],\n",
       "\n",
       "       [[36, 25, 16],\n",
       "        [64, 49, 36]]])"
      ]
     },
     "execution_count": 18,
     "metadata": {},
     "output_type": "execute_result"
    }
   ],
   "source": [
    "r = (p - q)**2\n",
    "r"
   ]
  },
  {
   "cell_type": "code",
   "execution_count": 19,
   "metadata": {},
   "outputs": [
    {
     "data": {
      "text/plain": [
       "array([[  1,   1,   5],\n",
       "       [  5,   1,   1],\n",
       "       [ 13,   5,   1],\n",
       "       [ 25,  13,   5],\n",
       "       [ 41,  25,  13],\n",
       "       [ 61,  41,  25],\n",
       "       [100,  74,  52]])"
      ]
     },
     "execution_count": 19,
     "metadata": {},
     "output_type": "execute_result"
    }
   ],
   "source": [
    "s = r.sum(axis=1)\n",
    "s"
   ]
  },
  {
   "cell_type": "code",
   "execution_count": 20,
   "metadata": {},
   "outputs": [],
   "source": [
    "# k-means"
   ]
  },
  {
   "cell_type": "code",
   "execution_count": 33,
   "metadata": {},
   "outputs": [],
   "source": [
    "%matplotlib inline\n",
    "\n",
    "import numpy as np\n",
    "import itertools\n",
    "\n",
    "class KMeans:\n",
    "    def __init__(self, n_clusters, max_iter=1000, random_seed=0):\n",
    "        self.n_clusters = n_clusters\n",
    "        self.max_iter = max_iter\n",
    "        self.random_state = np.random.RandomState(random_seed)\n",
    "    \n",
    "    def fit(self, X):\n",
    "        cycle = itertools.cycle(range(self.n_clusters))\n",
    "        self.labels_ = np.fromiter(itertools.islice(cycle, X.shape[0]), dtype=np.int)\n",
    "        self.random_state.shuffle(self.labels_)\n",
    "        labels_prev = np.zeros(X.shape[0])\n",
    "        count = 9\n",
    "        self.cluster_centers_ = np.zeros((self.n_clusters, X.shape[1]))\n",
    "        while (not (self.labels_ == labels_prev).all() and count < self.max_iter):\n",
    "            for i in range(self.n_clusters):\n",
    "                XX = X[self.labels_ == i, :]\n",
    "                self.cluster_centers_[i, :] = XX.mean(axis=0)\n",
    "            dist = ((X[:, :, np.newaxis] - self.cluster_centers_.T[np.newaxis, :, :]) ** 2).sum(axis=1)\n",
    "            labels_prev = self.labels_\n",
    "            self.labels_ = dist.argmin(axis=1)\n",
    "            count += 1\n",
    "\n",
    "    def  predict(self, X):\n",
    "        dist = ((X[:, :, np.newaxis] - self.cluster_centers_.T[np.newaxis, :, :]) ** 2).sum(axis=1)\n",
    "        labels = dist.argmin(axis=1)\n",
    "        return labels"
   ]
  },
  {
   "cell_type": "code",
   "execution_count": 35,
   "metadata": {},
   "outputs": [
    {
     "data": {
      "image/png": "[encoded data removed]",
      "text/plain": [
       "<Figure size 432x288 with 1 Axes>"
      ]
     },
     "metadata": {
      "needs_background": "light"
     },
     "output_type": "display_data"
    }
   ],
   "source": [
    "%matplotlib inline\n",
    "\n",
    "import numpy as np\n",
    "import matplotlib.pyplot as plt\n",
    "\n",
    "np.random.seed(0)\n",
    "points1 = np.random.randn(50, 2)\n",
    "points2  = np.random.randn(50, 2) + np.array([5, 0])\n",
    "points3 = np.random.randn(50, 2) + np.array([5,5])\n",
    "\n",
    "points = np.r_[points1, points2, points3]\n",
    "np.random.shuffle(points)\n",
    "\n",
    "model = KMeans(3)\n",
    "model.fit(points)\n",
    "\n",
    "markers = [\"+\",\"*\",\"o\"]\n",
    "for i in range(3):\n",
    "    p = points[model.labels_ == i, :]\n",
    "    plt.scatter(p[:, 0], p[:, 1], color='k', marker=markers[i])\n",
    "\n",
    "plt.show()"
   ]
  },
  {
   "cell_type": "code",
   "execution_count": null,
   "metadata": {},
   "outputs": [],
   "source": []
  }
 ],
 "metadata": {
  "kernelspec": {
   "display_name": "Python 3",
   "language": "python",
   "name": "python3"
  },
  "language_info": {
   "codemirror_mode": {
    "name": "ipython",
    "version": 3
   },
   "file_extension": ".py",
   "mimetype": "text/x-python",
   "name": "python",
   "nbconvert_exporter": "python",
   "pygments_lexer": "ipython3",
   "version": "3.7.3"
  }
 },
 "nbformat": 4,
 "nbformat_minor": 4
}
