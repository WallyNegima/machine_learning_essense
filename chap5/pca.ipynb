{
 "cells": [
  {
   "cell_type": "code",
   "execution_count": 18,
   "metadata": {},
   "outputs": [],
   "source": [
    "import numpy as np\n",
    "from scipy.sparse.linalg import svds\n",
    "\n",
    "class PCA:\n",
    "    def __init__(self, n_components, tol=0.0, random_seed=0):\n",
    "        self.n_components = n_components\n",
    "        self.tol = tol\n",
    "        self.random_state_ = np.random.RandomState(random_seed)\n",
    "    \n",
    "    def fit(self, X):\n",
    "        v0 = self.random_state_.randn(min(X.shape))\n",
    "        xbar = X.mean(axis=0)\n",
    "        Y = X - xbar\n",
    "        S = np.dot(Y.T, Y)\n",
    "        U, Sigma, VT = svds(S, k=self.n_components, tol=self.tol, v0=v0)\n",
    "        self.VT_ = VT[::-1, :]\n",
    "    \n",
    "    def transform(self, X):\n",
    "        print(self.VT_)\n",
    "        print('---')\n",
    "        print(X.T)\n",
    "        print('-----')\n",
    "        print(self.VT_.dot(X.T).T)\n",
    "        return self.VT_.dot(X.T).T\n",
    "        "
   ]
  },
  {
   "cell_type": "code",
   "execution_count": 19,
   "metadata": {},
   "outputs": [
    {
     "name": "stdout",
     "output_type": "stream",
     "text": [
      "[[ 6.13247431e-03 -3.84465551e-04 -1.70902595e-04 -8.64894648e-03\n",
      "  -6.37307290e-05 -2.18857434e-01 -9.75678369e-01 -3.72498542e-06\n",
      "   2.68008619e-04 -2.23381730e-04  6.35846721e-03]\n",
      " [-2.38994985e-02 -2.00966661e-03 -3.03480788e-03  1.11348551e-02\n",
      "  -2.36654751e-04  9.75265982e-01 -2.18916841e-01 -2.49998510e-05\n",
      "   3.27182194e-03  6.18926046e-04  1.45642451e-02]]\n",
      "---\n",
      "[[ 7.4    7.8    7.8   ...  6.3    5.9    6.   ]\n",
      " [ 0.7    0.88   0.76  ...  0.51   0.645  0.31 ]\n",
      " [ 0.     0.     0.04  ...  0.13   0.12   0.47 ]\n",
      " ...\n",
      " [ 3.51   3.2    3.26  ...  3.42   3.57   3.39 ]\n",
      " [ 0.56   0.68   0.65  ...  0.75   0.71   0.66 ]\n",
      " [ 9.4    9.8    9.8   ... 11.    10.2   11.   ]]\n",
      "-----\n",
      "[[-35.49124148   3.27633804]\n",
      " [-70.75387009   9.7085594 ]\n",
      " [-55.87881981   2.79877699]\n",
      " ...\n",
      " [-45.28479297  19.57148134]\n",
      " [-49.84902482  21.61640517]\n",
      " [-44.84176989   8.42658539]]\n"
     ]
    },
    {
     "data": {
      "image/png": "[encoded data removed]",
      "text/plain": [
       "<Figure size 432x288 with 1 Axes>"
      ]
     },
     "metadata": {
      "needs_background": "light"
     },
     "output_type": "display_data"
    }
   ],
   "source": [
    "%matplotlib inline\n",
    "import matplotlib.pyplot as plt\n",
    "import csv\n",
    "\n",
    "Xy = []\n",
    "with open(\"winequality-red.csv\") as fp:\n",
    "    for row in csv.reader(fp, delimiter=\";\"):\n",
    "        Xy.append(row)\n",
    "    \n",
    "Xy = np.array(Xy[1:], dtype=np.float64)\n",
    "X = Xy[:, :-1]\n",
    "\n",
    "model = PCA(n_components=2)\n",
    "model.fit(X)\n",
    "\n",
    "Y = model.transform(X)\n",
    "\n",
    "plt.scatter(Y[:, 0], Y[:,1], color='k')\n",
    "plt.show()"
   ]
  },
  {
   "cell_type": "code",
   "execution_count": null,
   "metadata": {},
   "outputs": [],
   "source": []
  }
 ],
 "metadata": {
  "kernelspec": {
   "display_name": "Python 3",
   "language": "python",
   "name": "python3"
  },
  "language_info": {
   "codemirror_mode": {
    "name": "ipython",
    "version": 3
   },
   "file_extension": ".py",
   "mimetype": "text/x-python",
   "name": "python",
   "nbconvert_exporter": "python",
   "pygments_lexer": "ipython3",
   "version": "3.7.3"
  }
 },
 "nbformat": 4,
 "nbformat_minor": 4
}
